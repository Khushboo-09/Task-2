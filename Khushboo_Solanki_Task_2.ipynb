{
 "cells": [
  {
   "cell_type": "markdown",
   "id": "7ffc31a6",
   "metadata": {},
   "source": [
    "# Khushboo Solanki\n",
    "# Task-6 Prediction using Decision Tree Algorithm\n",
    "<font size = \"4\">In this, I will be predicting the species of iris flower using the given dataset.</br></br> For this, I will be using DecisionTreeClassifier Algorithm from sklearn.tree\n",
    "</font>"
   ]
  },
  {
   "cell_type": "code",
   "execution_count": 21,
   "id": "af4091b7",
   "metadata": {},
   "outputs": [],
   "source": [
    "#importing the necessary libraries to complete the given task\n",
    "import pandas as pd\n",
    "import numpy as np"
   ]
  },
  {
   "cell_type": "code",
   "execution_count": 22,
   "id": "0f28816f",
   "metadata": {},
   "outputs": [
    {
     "data": {
      "text/html": [
       "<div>\n",
       "<style scoped>\n",
       "    .dataframe tbody tr th:only-of-type {\n",
       "        vertical-align: middle;\n",
       "    }\n",
       "\n",
       "    .dataframe tbody tr th {\n",
       "        vertical-align: top;\n",
       "    }\n",
       "\n",
       "    .dataframe thead th {\n",
       "        text-align: right;\n",
       "    }\n",
       "</style>\n",
       "<table border=\"1\" class=\"dataframe\">\n",
       "  <thead>\n",
       "    <tr style=\"text-align: right;\">\n",
       "      <th></th>\n",
       "      <th>Id</th>\n",
       "      <th>SepalLengthCm</th>\n",
       "      <th>SepalWidthCm</th>\n",
       "      <th>PetalLengthCm</th>\n",
       "      <th>PetalWidthCm</th>\n",
       "      <th>Species</th>\n",
       "    </tr>\n",
       "  </thead>\n",
       "  <tbody>\n",
       "    <tr>\n",
       "      <th>0</th>\n",
       "      <td>1</td>\n",
       "      <td>5.1</td>\n",
       "      <td>3.5</td>\n",
       "      <td>1.4</td>\n",
       "      <td>0.2</td>\n",
       "      <td>Iris-setosa</td>\n",
       "    </tr>\n",
       "    <tr>\n",
       "      <th>1</th>\n",
       "      <td>2</td>\n",
       "      <td>4.9</td>\n",
       "      <td>3.0</td>\n",
       "      <td>1.4</td>\n",
       "      <td>0.2</td>\n",
       "      <td>Iris-setosa</td>\n",
       "    </tr>\n",
       "    <tr>\n",
       "      <th>2</th>\n",
       "      <td>3</td>\n",
       "      <td>4.7</td>\n",
       "      <td>3.2</td>\n",
       "      <td>1.3</td>\n",
       "      <td>0.2</td>\n",
       "      <td>Iris-setosa</td>\n",
       "    </tr>\n",
       "    <tr>\n",
       "      <th>3</th>\n",
       "      <td>4</td>\n",
       "      <td>4.6</td>\n",
       "      <td>3.1</td>\n",
       "      <td>1.5</td>\n",
       "      <td>0.2</td>\n",
       "      <td>Iris-setosa</td>\n",
       "    </tr>\n",
       "    <tr>\n",
       "      <th>4</th>\n",
       "      <td>5</td>\n",
       "      <td>5.0</td>\n",
       "      <td>3.6</td>\n",
       "      <td>1.4</td>\n",
       "      <td>0.2</td>\n",
       "      <td>Iris-setosa</td>\n",
       "    </tr>\n",
       "  </tbody>\n",
       "</table>\n",
       "</div>"
      ],
      "text/plain": [
       "   Id  SepalLengthCm  SepalWidthCm  PetalLengthCm  PetalWidthCm      Species\n",
       "0   1            5.1           3.5            1.4           0.2  Iris-setosa\n",
       "1   2            4.9           3.0            1.4           0.2  Iris-setosa\n",
       "2   3            4.7           3.2            1.3           0.2  Iris-setosa\n",
       "3   4            4.6           3.1            1.5           0.2  Iris-setosa\n",
       "4   5            5.0           3.6            1.4           0.2  Iris-setosa"
      ]
     },
     "execution_count": 22,
     "metadata": {},
     "output_type": "execute_result"
    }
   ],
   "source": [
    "#importing the dataset for the given task\n",
    "path = \"iris.csv\"\n",
    "dataSet = pd.read_csv(path)\n",
    "dataSet.head()"
   ]
  },
  {
   "cell_type": "markdown",
   "id": "10f9a29b",
   "metadata": {},
   "source": [
    "# Preparing the Data"
   ]
  },
  {
   "cell_type": "code",
   "execution_count": 23,
   "id": "08bc6be2",
   "metadata": {},
   "outputs": [],
   "source": [
    "X = dataSet.iloc[:,1:-1]\n",
    "Y = dataSet.iloc[:,-1]"
   ]
  },
  {
   "cell_type": "markdown",
   "id": "57169777",
   "metadata": {},
   "source": [
    "<font size = \"4\">Here, I am using LabelEncoder() as Species are categorical data, whereas we need numerical data for implementing decision Tree Classifier Algorithm</font>"
   ]
  },
  {
   "cell_type": "code",
   "execution_count": null,
   "id": "ceafbb88",
   "metadata": {},
   "outputs": [],
   "source": [
    "# Import label encoder\n",
    "from sklearn import preprocessing\n",
    "# label_encoder object knows how to understand word labels.\n",
    "label_encoder = preprocessing.LabelEncoder()\n",
    "# Encode labels in column 'species'.\n",
    "dataSet['Species']= label_encoder.fit_transform(dataSet['Species']) \n"
   ]
  },
  {
   "cell_type": "markdown",
   "id": "8653df7d",
   "metadata": {},
   "source": [
    "# Splitting the Data"
   ]
  },
  {
   "cell_type": "code",
   "execution_count": null,
   "id": "c51fe7f3",
   "metadata": {},
   "outputs": [],
   "source": [
    "#importing train_test_split from slklearn.model_selection\n",
    "from sklearn.model_selection import train_test_split\n",
    "X_train,X_test,Y_train,Y_test = train_test_split(X, Y, test_size=0.2, random_state = 0 )"
   ]
  },
  {
   "cell_type": "markdown",
   "id": "e66b88a5",
   "metadata": {},
   "source": [
    "# Creating and Training the Model"
   ]
  },
  {
   "cell_type": "code",
   "execution_count": null,
   "id": "43283edf",
   "metadata": {},
   "outputs": [],
   "source": [
    "from sklearn.tree import DecisionTreeClassifier\n",
    "dtc = DecisionTreeClassifier(criterion=\"entropy\",max_depth=3)\n",
    "dtc.fit(X_train,Y_train)\n",
    "print(\"Model Trained\")"
   ]
  },
  {
   "cell_type": "markdown",
   "id": "ee446565",
   "metadata": {},
   "source": [
    "# Predicting the test_set "
   ]
  },
  {
   "cell_type": "code",
   "execution_count": null,
   "id": "bb1914ee",
   "metadata": {},
   "outputs": [],
   "source": [
    "predTree = dtc.predict(X_test)"
   ]
  },
  {
   "cell_type": "markdown",
   "id": "2921bf10",
   "metadata": {},
   "source": [
    "# Comparing the Actual and Predicted Species"
   ]
  },
  {
   "cell_type": "code",
   "execution_count": null,
   "id": "461128a2",
   "metadata": {},
   "outputs": [],
   "source": [
    "df = pd.DataFrame({'Actual Species':Y_test, 'Predicted Species': predTree})\n",
    "df.head(10)"
   ]
  },
  {
   "cell_type": "markdown",
   "id": "3cad951b",
   "metadata": {},
   "source": [
    "# Model Evaluation"
   ]
  },
  {
   "cell_type": "code",
   "execution_count": null,
   "id": "aabcf837",
   "metadata": {},
   "outputs": [],
   "source": [
    "from sklearn import metrics\n",
    "print(\"The accuracy is:\", metrics.accuracy_score(Y_test,predTree))"
   ]
  },
  {
   "cell_type": "markdown",
   "id": "a215dfe5",
   "metadata": {},
   "source": [
    "# Visualization"
   ]
  },
  {
   "cell_type": "code",
   "execution_count": null,
   "id": "4d085bf5",
   "metadata": {},
   "outputs": [],
   "source": [
    "from six import StringIO\n",
    "import pydotplus\n",
    "import matplotlib.image as mpimg\n",
    "from sklearn.tree import export_graphviz\n",
    "from sklearn import tree\n"
   ]
  },
  {
   "cell_type": "code",
   "execution_count": null,
   "id": "4dc3d286",
   "metadata": {},
   "outputs": [],
   "source": [
    "x = dataSet.columns\n",
    "features_name = x[1:5]\n",
    "from sklearn import tree\n",
    "from sklearn.tree import export_graphviz\n",
    "from graphviz import Source\n",
    "from IPython.display import SVG\n",
    "from IPython.display import display\n",
    "\n",
    "import os\n",
    "os.environ[\"PATH\"] += os.pathsep + r'C:\\Program Files\\Graphviz\\bin'\n",
    "\n",
    "graph = Source(tree.export_graphviz(dtc, out_file=None\n",
    "   , feature_names=features_name\n",
    "   , filled = True,rounded=True))\n",
    "display(SVG(graph.pipe(format='svg')))"
   ]
  },
  {
   "cell_type": "code",
   "execution_count": null,
   "id": "67c68064",
   "metadata": {},
   "outputs": [],
   "source": []
  }
 ],
 "metadata": {
  "kernelspec": {
   "display_name": "Python 3",
   "language": "python",
   "name": "python3"
  },
  "language_info": {
   "codemirror_mode": {
    "name": "ipython",
    "version": 3
   },
   "file_extension": ".py",
   "mimetype": "text/x-python",
   "name": "python",
   "nbconvert_exporter": "python",
   "pygments_lexer": "ipython3",
   "version": "3.9.5"
  }
 },
 "nbformat": 4,
 "nbformat_minor": 5
}
