{
 "cells": [
  {
   "cell_type": "markdown",
   "id": "7ffc31a6",
   "metadata": {},
   "source": [
    "# Khushboo Solanki\n",
    "# Task-6 Prediction using Decision Tree Algorithm\n",
    "<font size = \"4\">In this, I will be predicting the species of iris flower using the given dataset.</br></br> For this, I will be using DecisionTreeClassifier Algorithm from sklearn.tree\n",
    "</font>"
   ]
  },
  {
   "cell_type": "code",
   "execution_count": null,
   "id": "af4091b7",
   "metadata": {},
   "outputs": [],
   "source": [
    "#importing the necessary libraries to complete the given task\n",
    "import pandas as pd"
   ]
  },
  {
   "cell_type": "code",
   "execution_count": null,
   "id": "0f28816f",
   "metadata": {},
   "outputs": [],
   "source": [
    "#importing the dataset for the given task\n",
    "path = \"iris.csv\"\n",
    "dataSet = pd.read_csv(path)\n",
    "dataSet.head()"
   ]
  },
  {
   "cell_type": "code",
   "execution_count": null,
   "id": "2b1ef170",
   "metadata": {},
   "outputs": [],
   "source": [
    "X = dataSet.iloc[:,:]\n",
    "Y = dataSet.iloc[:,-1]\n",
    "Y"
   ]
  },
  {
   "cell_type": "code",
   "execution_count": null,
   "id": "5cedecb6",
   "metadata": {},
   "outputs": [],
   "source": [
    "# Import label encoder\n",
    "from sklearn import preprocessing\n",
    "# label_encoder object knows how to understand word labels.\n",
    "label_encoder = preprocessing.LabelEncoder()\n",
    "# Encode labels in column 'species'.\n",
    "dataSet['Species']= label_encoder.fit_transform(dataSet['Species']) \n",
    "dataSet['Species'].unique()"
   ]
  },
  {
   "cell_type": "code",
   "execution_count": null,
   "id": "c51fe7f3",
   "metadata": {},
   "outputs": [],
   "source": [
    "#importing train_test_split from slklearn.model_selection\n",
    "from sklearn.model_selection import train_test_split\n",
    "X_train,X_test,Y_train,Y_test = train_test_split(X, Y, test_size=0.2, random_state = 0 )"
   ]
  },
  {
   "cell_type": "code",
   "execution_count": null,
   "id": "5258595d",
   "metadata": {},
   "outputs": [],
   "source": [
    "from sklearn.tree import DecisionTreeClassifier\n",
    "dtc = DecisionTreeClassifier(criterion=\"entropy\",max_depth=3)\n",
    "dtc.fit(X_train,Y_train)"
   ]
  },
  {
   "cell_type": "code",
   "execution_count": null,
   "id": "11f55448",
   "metadata": {},
   "outputs": [],
   "source": []
  },
  {
   "cell_type": "code",
   "execution_count": null,
   "id": "4209d694",
   "metadata": {},
   "outputs": [],
   "source": []
  }
 ],
 "metadata": {
  "kernelspec": {
   "display_name": "Python 3",
   "language": "python",
   "name": "python3"
  },
  "language_info": {
   "codemirror_mode": {
    "name": "ipython",
    "version": 3
   },
   "file_extension": ".py",
   "mimetype": "text/x-python",
   "name": "python",
   "nbconvert_exporter": "python",
   "pygments_lexer": "ipython3",
   "version": "3.9.5"
  }
 },
 "nbformat": 4,
 "nbformat_minor": 5
}
